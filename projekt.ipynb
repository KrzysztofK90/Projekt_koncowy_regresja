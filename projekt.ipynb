{
  "nbformat": 4,
  "nbformat_minor": 0,
  "metadata": {
    "colab": {
      "provenance": []
    },
    "kernelspec": {
      "name": "python3",
      "display_name": "Python 3"
    },
    "language_info": {
      "name": "python"
    }
  },
  "cells": [
    {
      "cell_type": "markdown",
      "source": [
        "##Projekt praktyczny - regresja##"
      ],
      "metadata": {
        "id": "DXpgUVtfC6gJ"
      }
    },
    {
      "cell_type": "code",
      "source": [
        "import pandas as pd"
      ],
      "metadata": {
        "id": "Cz_tB4PxD0wd"
      },
      "execution_count": 1,
      "outputs": []
    },
    {
      "cell_type": "code",
      "source": [
        "import numpy as np"
      ],
      "metadata": {
        "id": "vhg_3In1FUir"
      },
      "execution_count": 2,
      "outputs": []
    },
    {
      "cell_type": "code",
      "source": [
        "import seaborn as sns"
      ],
      "metadata": {
        "id": "Yz2QUzw8GzOK"
      },
      "execution_count": 3,
      "outputs": []
    },
    {
      "cell_type": "code",
      "source": [
        "laptop=pd.read_csv('laptop_price.csv', encoding='latin-1')"
      ],
      "metadata": {
        "id": "9fVSz5Y8DAJW"
      },
      "execution_count": 4,
      "outputs": []
    },
    {
      "cell_type": "code",
      "source": [
        "laptop.head()"
      ],
      "metadata": {
        "colab": {
          "base_uri": "https://localhost:8080/",
          "height": 458
        },
        "id": "3nCDOTEAEdvp",
        "outputId": "8f0b68dd-8800-4f78-93f6-1e8d66f18aa5"
      },
      "execution_count": 5,
      "outputs": [
        {
          "output_type": "execute_result",
          "data": {
            "text/plain": [
              "   laptop_ID Company      Product   TypeName  Inches  \\\n",
              "0          1   Apple  MacBook Pro  Ultrabook    13.3   \n",
              "1          2   Apple  Macbook Air  Ultrabook    13.3   \n",
              "2          3      HP       250 G6   Notebook    15.6   \n",
              "3          4   Apple  MacBook Pro  Ultrabook    15.4   \n",
              "4          5   Apple  MacBook Pro  Ultrabook    13.3   \n",
              "\n",
              "                     ScreenResolution                         Cpu   Ram  \\\n",
              "0  IPS Panel Retina Display 2560x1600        Intel Core i5 2.3GHz   8GB   \n",
              "1                            1440x900        Intel Core i5 1.8GHz   8GB   \n",
              "2                   Full HD 1920x1080  Intel Core i5 7200U 2.5GHz   8GB   \n",
              "3  IPS Panel Retina Display 2880x1800        Intel Core i7 2.7GHz  16GB   \n",
              "4  IPS Panel Retina Display 2560x1600        Intel Core i5 3.1GHz   8GB   \n",
              "\n",
              "                Memory                           Gpu  OpSys  Weight  \\\n",
              "0            128GB SSD  Intel Iris Plus Graphics 640  macOS  1.37kg   \n",
              "1  128GB Flash Storage        Intel HD Graphics 6000  macOS  1.34kg   \n",
              "2            256GB SSD         Intel HD Graphics 620  No OS  1.86kg   \n",
              "3            512GB SSD            AMD Radeon Pro 455  macOS  1.83kg   \n",
              "4            256GB SSD  Intel Iris Plus Graphics 650  macOS  1.37kg   \n",
              "\n",
              "   Price_euros  \n",
              "0      1339.69  \n",
              "1       898.94  \n",
              "2       575.00  \n",
              "3      2537.45  \n",
              "4      1803.60  "
            ],
            "text/html": [
              "\n",
              "  <div id=\"df-07fd26ba-323c-4b53-942a-db1afdcef673\">\n",
              "    <div class=\"colab-df-container\">\n",
              "      <div>\n",
              "<style scoped>\n",
              "    .dataframe tbody tr th:only-of-type {\n",
              "        vertical-align: middle;\n",
              "    }\n",
              "\n",
              "    .dataframe tbody tr th {\n",
              "        vertical-align: top;\n",
              "    }\n",
              "\n",
              "    .dataframe thead th {\n",
              "        text-align: right;\n",
              "    }\n",
              "</style>\n",
              "<table border=\"1\" class=\"dataframe\">\n",
              "  <thead>\n",
              "    <tr style=\"text-align: right;\">\n",
              "      <th></th>\n",
              "      <th>laptop_ID</th>\n",
              "      <th>Company</th>\n",
              "      <th>Product</th>\n",
              "      <th>TypeName</th>\n",
              "      <th>Inches</th>\n",
              "      <th>ScreenResolution</th>\n",
              "      <th>Cpu</th>\n",
              "      <th>Ram</th>\n",
              "      <th>Memory</th>\n",
              "      <th>Gpu</th>\n",
              "      <th>OpSys</th>\n",
              "      <th>Weight</th>\n",
              "      <th>Price_euros</th>\n",
              "    </tr>\n",
              "  </thead>\n",
              "  <tbody>\n",
              "    <tr>\n",
              "      <th>0</th>\n",
              "      <td>1</td>\n",
              "      <td>Apple</td>\n",
              "      <td>MacBook Pro</td>\n",
              "      <td>Ultrabook</td>\n",
              "      <td>13.3</td>\n",
              "      <td>IPS Panel Retina Display 2560x1600</td>\n",
              "      <td>Intel Core i5 2.3GHz</td>\n",
              "      <td>8GB</td>\n",
              "      <td>128GB SSD</td>\n",
              "      <td>Intel Iris Plus Graphics 640</td>\n",
              "      <td>macOS</td>\n",
              "      <td>1.37kg</td>\n",
              "      <td>1339.69</td>\n",
              "    </tr>\n",
              "    <tr>\n",
              "      <th>1</th>\n",
              "      <td>2</td>\n",
              "      <td>Apple</td>\n",
              "      <td>Macbook Air</td>\n",
              "      <td>Ultrabook</td>\n",
              "      <td>13.3</td>\n",
              "      <td>1440x900</td>\n",
              "      <td>Intel Core i5 1.8GHz</td>\n",
              "      <td>8GB</td>\n",
              "      <td>128GB Flash Storage</td>\n",
              "      <td>Intel HD Graphics 6000</td>\n",
              "      <td>macOS</td>\n",
              "      <td>1.34kg</td>\n",
              "      <td>898.94</td>\n",
              "    </tr>\n",
              "    <tr>\n",
              "      <th>2</th>\n",
              "      <td>3</td>\n",
              "      <td>HP</td>\n",
              "      <td>250 G6</td>\n",
              "      <td>Notebook</td>\n",
              "      <td>15.6</td>\n",
              "      <td>Full HD 1920x1080</td>\n",
              "      <td>Intel Core i5 7200U 2.5GHz</td>\n",
              "      <td>8GB</td>\n",
              "      <td>256GB SSD</td>\n",
              "      <td>Intel HD Graphics 620</td>\n",
              "      <td>No OS</td>\n",
              "      <td>1.86kg</td>\n",
              "      <td>575.00</td>\n",
              "    </tr>\n",
              "    <tr>\n",
              "      <th>3</th>\n",
              "      <td>4</td>\n",
              "      <td>Apple</td>\n",
              "      <td>MacBook Pro</td>\n",
              "      <td>Ultrabook</td>\n",
              "      <td>15.4</td>\n",
              "      <td>IPS Panel Retina Display 2880x1800</td>\n",
              "      <td>Intel Core i7 2.7GHz</td>\n",
              "      <td>16GB</td>\n",
              "      <td>512GB SSD</td>\n",
              "      <td>AMD Radeon Pro 455</td>\n",
              "      <td>macOS</td>\n",
              "      <td>1.83kg</td>\n",
              "      <td>2537.45</td>\n",
              "    </tr>\n",
              "    <tr>\n",
              "      <th>4</th>\n",
              "      <td>5</td>\n",
              "      <td>Apple</td>\n",
              "      <td>MacBook Pro</td>\n",
              "      <td>Ultrabook</td>\n",
              "      <td>13.3</td>\n",
              "      <td>IPS Panel Retina Display 2560x1600</td>\n",
              "      <td>Intel Core i5 3.1GHz</td>\n",
              "      <td>8GB</td>\n",
              "      <td>256GB SSD</td>\n",
              "      <td>Intel Iris Plus Graphics 650</td>\n",
              "      <td>macOS</td>\n",
              "      <td>1.37kg</td>\n",
              "      <td>1803.60</td>\n",
              "    </tr>\n",
              "  </tbody>\n",
              "</table>\n",
              "</div>\n",
              "      <button class=\"colab-df-convert\" onclick=\"convertToInteractive('df-07fd26ba-323c-4b53-942a-db1afdcef673')\"\n",
              "              title=\"Convert this dataframe to an interactive table.\"\n",
              "              style=\"display:none;\">\n",
              "        \n",
              "  <svg xmlns=\"http://www.w3.org/2000/svg\" height=\"24px\"viewBox=\"0 0 24 24\"\n",
              "       width=\"24px\">\n",
              "    <path d=\"M0 0h24v24H0V0z\" fill=\"none\"/>\n",
              "    <path d=\"M18.56 5.44l.94 2.06.94-2.06 2.06-.94-2.06-.94-.94-2.06-.94 2.06-2.06.94zm-11 1L8.5 8.5l.94-2.06 2.06-.94-2.06-.94L8.5 2.5l-.94 2.06-2.06.94zm10 10l.94 2.06.94-2.06 2.06-.94-2.06-.94-.94-2.06-.94 2.06-2.06.94z\"/><path d=\"M17.41 7.96l-1.37-1.37c-.4-.4-.92-.59-1.43-.59-.52 0-1.04.2-1.43.59L10.3 9.45l-7.72 7.72c-.78.78-.78 2.05 0 2.83L4 21.41c.39.39.9.59 1.41.59.51 0 1.02-.2 1.41-.59l7.78-7.78 2.81-2.81c.8-.78.8-2.07 0-2.86zM5.41 20L4 18.59l7.72-7.72 1.47 1.35L5.41 20z\"/>\n",
              "  </svg>\n",
              "      </button>\n",
              "      \n",
              "  <style>\n",
              "    .colab-df-container {\n",
              "      display:flex;\n",
              "      flex-wrap:wrap;\n",
              "      gap: 12px;\n",
              "    }\n",
              "\n",
              "    .colab-df-convert {\n",
              "      background-color: #E8F0FE;\n",
              "      border: none;\n",
              "      border-radius: 50%;\n",
              "      cursor: pointer;\n",
              "      display: none;\n",
              "      fill: #1967D2;\n",
              "      height: 32px;\n",
              "      padding: 0 0 0 0;\n",
              "      width: 32px;\n",
              "    }\n",
              "\n",
              "    .colab-df-convert:hover {\n",
              "      background-color: #E2EBFA;\n",
              "      box-shadow: 0px 1px 2px rgba(60, 64, 67, 0.3), 0px 1px 3px 1px rgba(60, 64, 67, 0.15);\n",
              "      fill: #174EA6;\n",
              "    }\n",
              "\n",
              "    [theme=dark] .colab-df-convert {\n",
              "      background-color: #3B4455;\n",
              "      fill: #D2E3FC;\n",
              "    }\n",
              "\n",
              "    [theme=dark] .colab-df-convert:hover {\n",
              "      background-color: #434B5C;\n",
              "      box-shadow: 0px 1px 3px 1px rgba(0, 0, 0, 0.15);\n",
              "      filter: drop-shadow(0px 1px 2px rgba(0, 0, 0, 0.3));\n",
              "      fill: #FFFFFF;\n",
              "    }\n",
              "  </style>\n",
              "\n",
              "      <script>\n",
              "        const buttonEl =\n",
              "          document.querySelector('#df-07fd26ba-323c-4b53-942a-db1afdcef673 button.colab-df-convert');\n",
              "        buttonEl.style.display =\n",
              "          google.colab.kernel.accessAllowed ? 'block' : 'none';\n",
              "\n",
              "        async function convertToInteractive(key) {\n",
              "          const element = document.querySelector('#df-07fd26ba-323c-4b53-942a-db1afdcef673');\n",
              "          const dataTable =\n",
              "            await google.colab.kernel.invokeFunction('convertToInteractive',\n",
              "                                                     [key], {});\n",
              "          if (!dataTable) return;\n",
              "\n",
              "          const docLinkHtml = 'Like what you see? Visit the ' +\n",
              "            '<a target=\"_blank\" href=https://colab.research.google.com/notebooks/data_table.ipynb>data table notebook</a>'\n",
              "            + ' to learn more about interactive tables.';\n",
              "          element.innerHTML = '';\n",
              "          dataTable['output_type'] = 'display_data';\n",
              "          await google.colab.output.renderOutput(dataTable, element);\n",
              "          const docLink = document.createElement('div');\n",
              "          docLink.innerHTML = docLinkHtml;\n",
              "          element.appendChild(docLink);\n",
              "        }\n",
              "      </script>\n",
              "    </div>\n",
              "  </div>\n",
              "  "
            ]
          },
          "metadata": {},
          "execution_count": 5
        }
      ]
    },
    {
      "cell_type": "code",
      "source": [
        "laptop.info()"
      ],
      "metadata": {
        "colab": {
          "base_uri": "https://localhost:8080/"
        },
        "id": "RIaa-IA8FZVA",
        "outputId": "b3833506-4f37-40d9-c216-7197f082c807"
      },
      "execution_count": 6,
      "outputs": [
        {
          "output_type": "stream",
          "name": "stdout",
          "text": [
            "<class 'pandas.core.frame.DataFrame'>\n",
            "RangeIndex: 1303 entries, 0 to 1302\n",
            "Data columns (total 13 columns):\n",
            " #   Column            Non-Null Count  Dtype  \n",
            "---  ------            --------------  -----  \n",
            " 0   laptop_ID         1303 non-null   int64  \n",
            " 1   Company           1303 non-null   object \n",
            " 2   Product           1303 non-null   object \n",
            " 3   TypeName          1303 non-null   object \n",
            " 4   Inches            1303 non-null   float64\n",
            " 5   ScreenResolution  1303 non-null   object \n",
            " 6   Cpu               1303 non-null   object \n",
            " 7   Ram               1303 non-null   object \n",
            " 8   Memory            1303 non-null   object \n",
            " 9   Gpu               1303 non-null   object \n",
            " 10  OpSys             1303 non-null   object \n",
            " 11  Weight            1303 non-null   object \n",
            " 12  Price_euros       1303 non-null   float64\n",
            "dtypes: float64(2), int64(1), object(10)\n",
            "memory usage: 132.5+ KB\n"
          ]
        }
      ]
    },
    {
      "cell_type": "code",
      "source": [
        "import scipy.stats as sps"
      ],
      "metadata": {
        "id": "3sYJ0oHWG_ve"
      },
      "execution_count": 7,
      "outputs": []
    },
    {
      "cell_type": "code",
      "source": [
        "sns.distplot(laptop['Price_euros']) #sprawdzanie rozkładu zmiennej zależnej"
      ],
      "metadata": {
        "colab": {
          "base_uri": "https://localhost:8080/",
          "height": 488
        },
        "id": "lA1A8sR0HDdZ",
        "outputId": "0a513530-eea4-4c06-fa4c-a2d6da9829ba"
      },
      "execution_count": 8,
      "outputs": [
        {
          "output_type": "stream",
          "name": "stderr",
          "text": [
            "<ipython-input-8-fdcdf40aaafc>:1: UserWarning: \n",
            "\n",
            "`distplot` is a deprecated function and will be removed in seaborn v0.14.0.\n",
            "\n",
            "Please adapt your code to use either `displot` (a figure-level function with\n",
            "similar flexibility) or `histplot` (an axes-level function for histograms).\n",
            "\n",
            "For a guide to updating your code to use the new functions, please see\n",
            "https://gist.github.com/mwaskom/de44147ed2974457ad6372750bbe5751\n",
            "\n",
            "  sns.distplot(laptop['Price_euros']) #sprawdzanie rozkładu zmiennej zależnej\n"
          ]
        },
        {
          "output_type": "execute_result",
          "data": {
            "text/plain": [
              "<Axes: xlabel='Price_euros', ylabel='Density'>"
            ]
          },
          "metadata": {},
          "execution_count": 8
        },
        {
          "output_type": "display_data",
          "data": {
            "text/plain": [
              "<Figure size 432x288 with 1 Axes>"
            ],
            "image/png": "[encoded data removed]"
          },
          "metadata": {
            "needs_background": "light"
          }
        }
      ]
    },
    {
      "cell_type": "code",
      "source": [
        "#usuwanie wartości odstających ze zmiennej zależnej\n",
        "\n",
        "upper=laptop['Price_euros'].mean()+laptop['Price_euros'].std()*3\n",
        "lower=laptop['Price_euros'].mean()-laptop['Price_euros'].std()*3"
      ],
      "metadata": {
        "id": "V68nUZhvHZCB"
      },
      "execution_count": 9,
      "outputs": []
    },
    {
      "cell_type": "code",
      "source": [
        "laptop1=laptop[(laptop['Price_euros']<upper) & (laptop['Price_euros']>lower)]"
      ],
      "metadata": {
        "id": "83nQLMAvH4bm"
      },
      "execution_count": 10,
      "outputs": []
    },
    {
      "cell_type": "code",
      "source": [
        "sns.distplot(laptop1['Price_euros']) "
      ],
      "metadata": {
        "colab": {
          "base_uri": "https://localhost:8080/",
          "height": 488
        },
        "id": "ZsRoCPxBIH-P",
        "outputId": "5817efe3-a995-4f64-d595-947c54249d07"
      },
      "execution_count": 11,
      "outputs": [
        {
          "output_type": "stream",
          "name": "stderr",
          "text": [
            "<ipython-input-11-3abe22c8bf42>:1: UserWarning: \n",
            "\n",
            "`distplot` is a deprecated function and will be removed in seaborn v0.14.0.\n",
            "\n",
            "Please adapt your code to use either `displot` (a figure-level function with\n",
            "similar flexibility) or `histplot` (an axes-level function for histograms).\n",
            "\n",
            "For a guide to updating your code to use the new functions, please see\n",
            "https://gist.github.com/mwaskom/de44147ed2974457ad6372750bbe5751\n",
            "\n",
            "  sns.distplot(laptop1['Price_euros'])\n"
          ]
        },
        {
          "output_type": "execute_result",
          "data": {
            "text/plain": [
              "<Axes: xlabel='Price_euros', ylabel='Density'>"
            ]
          },
          "metadata": {},
          "execution_count": 11
        },
        {
          "output_type": "display_data",
          "data": {
            "text/plain": [
              "<Figure size 432x288 with 1 Axes>"
            ],
            "image/png": "[encoded data removed]"
          },
          "metadata": {
            "needs_background": "light"
          }
        }
      ]
    },
    {
      "cell_type": "code",
      "source": [
        "sns.countplot(y='Company', data=laptop1)"
      ],
      "metadata": {
        "colab": {
          "base_uri": "https://localhost:8080/",
          "height": 296
        },
        "id": "NF0rvs42I1zA",
        "outputId": "90e53542-2ef8-41e5-c017-d47f759bb2ec"
      },
      "execution_count": 12,
      "outputs": [
        {
          "output_type": "execute_result",
          "data": {
            "text/plain": [
              "<Axes: xlabel='count', ylabel='Company'>"
            ]
          },
          "metadata": {},
          "execution_count": 12
        },
        {
          "output_type": "display_data",
          "data": {
            "text/plain": [
              "<Figure size 432x288 with 1 Axes>"
            ],
            "image/png": "[encoded data removed]"
          },
          "metadata": {
            "needs_background": "light"
          }
        }
      ]
    },
    {
      "cell_type": "markdown",
      "source": [
        "Usuwamy wszystkie znaki poza wielkością rozdzielczości w kolumnie 'ScreenResolution'"
      ],
      "metadata": {
        "id": "XLGNjXwUPMI1"
      }
    },
    {
      "cell_type": "code",
      "source": [
        "laptop['ScreenResolution'].unique()"
      ],
      "metadata": {
        "colab": {
          "base_uri": "https://localhost:8080/"
        },
        "id": "TNuOAlGtJ6Pz",
        "outputId": "c548a7d8-79b9-417d-f8b2-d1d5cbf3ed40"
      },
      "execution_count": 14,
      "outputs": [
        {
          "output_type": "execute_result",
          "data": {
            "text/plain": [
              "array(['IPS Panel Retina Display 2560x1600', '1440x900',\n",
              "       'Full HD 1920x1080', 'IPS Panel Retina Display 2880x1800',\n",
              "       '1366x768', 'IPS Panel Full HD 1920x1080',\n",
              "       'IPS Panel Retina Display 2304x1440',\n",
              "       'IPS Panel Full HD / Touchscreen 1920x1080',\n",
              "       'Full HD / Touchscreen 1920x1080',\n",
              "       'Touchscreen / Quad HD+ 3200x1800',\n",
              "       'IPS Panel Touchscreen 1920x1200', 'Touchscreen 2256x1504',\n",
              "       'Quad HD+ / Touchscreen 3200x1800', 'IPS Panel 1366x768',\n",
              "       'IPS Panel 4K Ultra HD / Touchscreen 3840x2160',\n",
              "       'IPS Panel Full HD 2160x1440',\n",
              "       '4K Ultra HD / Touchscreen 3840x2160', 'Touchscreen 2560x1440',\n",
              "       '1600x900', 'IPS Panel 4K Ultra HD 3840x2160',\n",
              "       '4K Ultra HD 3840x2160', 'Touchscreen 1366x768',\n",
              "       'IPS Panel Full HD 1366x768', 'IPS Panel 2560x1440',\n",
              "       'IPS Panel Full HD 2560x1440',\n",
              "       'IPS Panel Retina Display 2736x1824', 'Touchscreen 2400x1600',\n",
              "       '2560x1440', 'IPS Panel Quad HD+ 2560x1440',\n",
              "       'IPS Panel Quad HD+ 3200x1800',\n",
              "       'IPS Panel Quad HD+ / Touchscreen 3200x1800',\n",
              "       'IPS Panel Touchscreen 1366x768', '1920x1080',\n",
              "       'IPS Panel Full HD 1920x1200',\n",
              "       'IPS Panel Touchscreen / 4K Ultra HD 3840x2160',\n",
              "       'IPS Panel Touchscreen 2560x1440',\n",
              "       'Touchscreen / Full HD 1920x1080', 'Quad HD+ 3200x1800',\n",
              "       'Touchscreen / 4K Ultra HD 3840x2160',\n",
              "       'IPS Panel Touchscreen 2400x1600'], dtype=object)"
            ]
          },
          "metadata": {},
          "execution_count": 14
        }
      ]
    },
    {
      "cell_type": "code",
      "source": [
        "laptop1['ScreenResolution'] = laptop1['ScreenResolution'].apply(lambda x: x[-9:].strip())"
      ],
      "metadata": {
        "colab": {
          "base_uri": "https://localhost:8080/"
        },
        "id": "q_-NN_ykL8Vb",
        "outputId": "3885cb67-cb69-4a0e-9c38-d002fce18af9"
      },
      "execution_count": 15,
      "outputs": [
        {
          "output_type": "stream",
          "name": "stderr",
          "text": [
            "<ipython-input-15-3f53c8ac8acc>:1: SettingWithCopyWarning: \n",
            "A value is trying to be set on a copy of a slice from a DataFrame.\n",
            "Try using .loc[row_indexer,col_indexer] = value instead\n",
            "\n",
            "See the caveats in the documentation: https://pandas.pydata.org/pandas-docs/stable/user_guide/indexing.html#returning-a-view-versus-a-copy\n",
            "  laptop1['ScreenResolution'] = laptop1['ScreenResolution'].apply(lambda x: x[-9:].strip())\n"
          ]
        }
      ]
    },
    {
      "cell_type": "code",
      "source": [
        "laptop1['ScreenResolution'].unique()"
      ],
      "metadata": {
        "colab": {
          "base_uri": "https://localhost:8080/"
        },
        "id": "ZnQunzDNONe7",
        "outputId": "0685cdb9-8c4f-47ca-c929-b4786ec6a985"
      },
      "execution_count": 16,
      "outputs": [
        {
          "output_type": "execute_result",
          "data": {
            "text/plain": [
              "array(['2560x1600', '1440x900', '1920x1080', '2880x1800', '1366x768',\n",
              "       '2304x1440', '3200x1800', '1920x1200', '2256x1504', '3840x2160',\n",
              "       '2160x1440', '2560x1440', '1600x900', '2736x1824', '2400x1600'],\n",
              "      dtype=object)"
            ]
          },
          "metadata": {},
          "execution_count": 16
        }
      ]
    },
    {
      "cell_type": "markdown",
      "source": [
        "Usuwamy wszystkie znaki poza wielkością ram w kolumnie 'Ram'"
      ],
      "metadata": {
        "id": "dJoyOz5RZeXs"
      }
    },
    {
      "cell_type": "code",
      "source": [
        "laptop1['Ram'] = laptop1['Ram'].apply(lambda x: x[:-2].strip())"
      ],
      "metadata": {
        "colab": {
          "base_uri": "https://localhost:8080/"
        },
        "id": "M15kN-rYTNaS",
        "outputId": "6f054cb7-84bb-4b4b-8326-a9d5248579dd"
      },
      "execution_count": 17,
      "outputs": [
        {
          "output_type": "stream",
          "name": "stderr",
          "text": [
            "<ipython-input-17-8f7e45189c72>:1: SettingWithCopyWarning: \n",
            "A value is trying to be set on a copy of a slice from a DataFrame.\n",
            "Try using .loc[row_indexer,col_indexer] = value instead\n",
            "\n",
            "See the caveats in the documentation: https://pandas.pydata.org/pandas-docs/stable/user_guide/indexing.html#returning-a-view-versus-a-copy\n",
            "  laptop1['Ram'] = laptop1['Ram'].apply(lambda x: x[:-2].strip())\n"
          ]
        }
      ]
    },
    {
      "cell_type": "code",
      "source": [
        "laptop1['Ram'].unique()"
      ],
      "metadata": {
        "colab": {
          "base_uri": "https://localhost:8080/"
        },
        "id": "x14qaBxTZOpP",
        "outputId": "ae2ae3e7-a3a9-4c2c-8b16-db9980eb4334"
      },
      "execution_count": 18,
      "outputs": [
        {
          "output_type": "execute_result",
          "data": {
            "text/plain": [
              "array(['8', '16', '4', '2', '12', '6', '32', '24'], dtype=object)"
            ]
          },
          "metadata": {},
          "execution_count": 18
        }
      ]
    },
    {
      "cell_type": "code",
      "source": [
        "laptop1['Ram'] = laptop1['Ram'].astype('int64')"
      ],
      "metadata": {
        "colab": {
          "base_uri": "https://localhost:8080/"
        },
        "id": "SPLoSFcRe7oA",
        "outputId": "c0ed3e9c-8c98-4a6d-a3f3-cde61d47a2a0"
      },
      "execution_count": 19,
      "outputs": [
        {
          "output_type": "stream",
          "name": "stderr",
          "text": [
            "<ipython-input-19-b4f85d55c9f5>:1: SettingWithCopyWarning: \n",
            "A value is trying to be set on a copy of a slice from a DataFrame.\n",
            "Try using .loc[row_indexer,col_indexer] = value instead\n",
            "\n",
            "See the caveats in the documentation: https://pandas.pydata.org/pandas-docs/stable/user_guide/indexing.html#returning-a-view-versus-a-copy\n",
            "  laptop1['Ram'] = laptop1['Ram'].astype('int64')\n"
          ]
        }
      ]
    },
    {
      "cell_type": "code",
      "source": [
        "laptop1.info()"
      ],
      "metadata": {
        "colab": {
          "base_uri": "https://localhost:8080/"
        },
        "id": "RnVzmUjKfEgy",
        "outputId": "1ae90dbf-7e1c-475b-afc8-1a30ce35ae3b"
      },
      "execution_count": 20,
      "outputs": [
        {
          "output_type": "stream",
          "name": "stdout",
          "text": [
            "<class 'pandas.core.frame.DataFrame'>\n",
            "Int64Index: 1291 entries, 0 to 1302\n",
            "Data columns (total 13 columns):\n",
            " #   Column            Non-Null Count  Dtype  \n",
            "---  ------            --------------  -----  \n",
            " 0   laptop_ID         1291 non-null   int64  \n",
            " 1   Company           1291 non-null   object \n",
            " 2   Product           1291 non-null   object \n",
            " 3   TypeName          1291 non-null   object \n",
            " 4   Inches            1291 non-null   float64\n",
            " 5   ScreenResolution  1291 non-null   object \n",
            " 6   Cpu               1291 non-null   object \n",
            " 7   Ram               1291 non-null   int64  \n",
            " 8   Memory            1291 non-null   object \n",
            " 9   Gpu               1291 non-null   object \n",
            " 10  OpSys             1291 non-null   object \n",
            " 11  Weight            1291 non-null   object \n",
            " 12  Price_euros       1291 non-null   float64\n",
            "dtypes: float64(2), int64(2), object(9)\n",
            "memory usage: 141.2+ KB\n"
          ]
        }
      ]
    },
    {
      "cell_type": "code",
      "source": [
        "#Ujednolicamy dane dla kolumny 'Memory'"
      ],
      "metadata": {
        "id": "UOxoh2m-i5Fu"
      },
      "execution_count": null,
      "outputs": []
    },
    {
      "cell_type": "code",
      "source": [
        "laptop1['Memory'].unique()"
      ],
      "metadata": {
        "colab": {
          "base_uri": "https://localhost:8080/"
        },
        "id": "a-gSAJSzajRx",
        "outputId": "0c865171-58c9-4bdf-e188-04a97a32108c"
      },
      "execution_count": 21,
      "outputs": [
        {
          "output_type": "execute_result",
          "data": {
            "text/plain": [
              "array(['128GB SSD', '128GB Flash Storage', '256GB SSD', '512GB SSD',\n",
              "       '500GB HDD', '256GB Flash Storage', '1TB HDD',\n",
              "       '32GB Flash Storage', '128GB SSD +  1TB HDD',\n",
              "       '256GB SSD +  256GB SSD', '64GB Flash Storage',\n",
              "       '256GB SSD +  1TB HDD', '256GB SSD +  2TB HDD', '32GB SSD',\n",
              "       '2TB HDD', '64GB SSD', '1.0TB Hybrid', '512GB SSD +  1TB HDD',\n",
              "       '1TB SSD', '256GB SSD +  500GB HDD', '128GB SSD +  2TB HDD',\n",
              "       '512GB SSD +  512GB SSD', '16GB SSD', '16GB Flash Storage',\n",
              "       '512GB SSD +  256GB SSD', '512GB SSD +  2TB HDD',\n",
              "       '64GB Flash Storage +  1TB HDD', '180GB SSD', '1TB HDD +  1TB HDD',\n",
              "       '32GB HDD', '512GB Flash Storage', '128GB HDD', '240GB SSD',\n",
              "       '8GB SSD', '508GB Hybrid', '1.0TB HDD',\n",
              "       '256GB SSD +  1.0TB Hybrid'], dtype=object)"
            ]
          },
          "metadata": {},
          "execution_count": 21
        }
      ]
    },
    {
      "cell_type": "code",
      "source": [
        "laptop1['Memory']=laptop1['Memory'].str.replace('Flash Storage', 'Flash_Storage')"
      ],
      "metadata": {
        "colab": {
          "base_uri": "https://localhost:8080/"
        },
        "id": "No5Tmravb8NZ",
        "outputId": "916b81e9-dce6-4c62-d9db-5c7f6c685729"
      },
      "execution_count": 22,
      "outputs": [
        {
          "output_type": "stream",
          "name": "stderr",
          "text": [
            "<ipython-input-22-a8679a940adb>:1: SettingWithCopyWarning: \n",
            "A value is trying to be set on a copy of a slice from a DataFrame.\n",
            "Try using .loc[row_indexer,col_indexer] = value instead\n",
            "\n",
            "See the caveats in the documentation: https://pandas.pydata.org/pandas-docs/stable/user_guide/indexing.html#returning-a-view-versus-a-copy\n",
            "  laptop1['Memory']=laptop1['Memory'].str.replace('Flash Storage', 'Flash_Storage')\n"
          ]
        }
      ]
    },
    {
      "cell_type": "code",
      "source": [
        "laptop1['Memory']=laptop1['Memory'].str.replace('1TB', '1000GB')"
      ],
      "metadata": {
        "colab": {
          "base_uri": "https://localhost:8080/"
        },
        "id": "hGcAa5DhiAgD",
        "outputId": "c42858e1-a2c0-4579-ff88-6126bf64342f"
      },
      "execution_count": 24,
      "outputs": [
        {
          "output_type": "stream",
          "name": "stderr",
          "text": [
            "<ipython-input-24-68c0e12ba094>:1: SettingWithCopyWarning: \n",
            "A value is trying to be set on a copy of a slice from a DataFrame.\n",
            "Try using .loc[row_indexer,col_indexer] = value instead\n",
            "\n",
            "See the caveats in the documentation: https://pandas.pydata.org/pandas-docs/stable/user_guide/indexing.html#returning-a-view-versus-a-copy\n",
            "  laptop1['Memory']=laptop1['Memory'].str.replace('1TB', '1000GB')\n"
          ]
        }
      ]
    },
    {
      "cell_type": "code",
      "source": [
        "laptop1['Memory']=laptop1['Memory'].str.replace('2TB', '2000GB')"
      ],
      "metadata": {
        "colab": {
          "base_uri": "https://localhost:8080/"
        },
        "id": "tx3sqogbisQq",
        "outputId": "a0faa7b4-670a-4b3a-dd28-de5be083a828"
      },
      "execution_count": 26,
      "outputs": [
        {
          "output_type": "stream",
          "name": "stderr",
          "text": [
            "<ipython-input-26-625ccf253d48>:1: SettingWithCopyWarning: \n",
            "A value is trying to be set on a copy of a slice from a DataFrame.\n",
            "Try using .loc[row_indexer,col_indexer] = value instead\n",
            "\n",
            "See the caveats in the documentation: https://pandas.pydata.org/pandas-docs/stable/user_guide/indexing.html#returning-a-view-versus-a-copy\n",
            "  laptop1['Memory']=laptop1['Memory'].str.replace('2TB', '2000GB')\n"
          ]
        }
      ]
    },
    {
      "cell_type": "code",
      "source": [
        "laptop1['Memory'].unique()"
      ],
      "metadata": {
        "colab": {
          "base_uri": "https://localhost:8080/"
        },
        "id": "0ReqcGcbcM2E",
        "outputId": "888c2861-0ef6-48fb-8592-54f0df4f7d53"
      },
      "execution_count": 27,
      "outputs": [
        {
          "output_type": "execute_result",
          "data": {
            "text/plain": [
              "array(['128GB SSD', '128GB Flash_Storage', '256GB SSD', '512GB SSD',\n",
              "       '500GB HDD', '256GB Flash_Storage', '1000GB HDD',\n",
              "       '32GB Flash_Storage', '128GB SSD +  1000GB HDD',\n",
              "       '256GB SSD +  256GB SSD', '64GB Flash_Storage',\n",
              "       '256GB SSD +  1000GB HDD', '256GB SSD +  2000GB HDD', '32GB SSD',\n",
              "       '2000GB HDD', '64GB SSD', '1.0TB Hybrid',\n",
              "       '512GB SSD +  1000GB HDD', '1000GB SSD', '256GB SSD +  500GB HDD',\n",
              "       '128GB SSD +  2000GB HDD', '512GB SSD +  512GB SSD', '16GB SSD',\n",
              "       '16GB Flash_Storage', '512GB SSD +  256GB SSD',\n",
              "       '512GB SSD +  2000GB HDD', '64GB Flash_Storage +  1000GB HDD',\n",
              "       '180GB SSD', '1000GB HDD +  1000GB HDD', '32GB HDD',\n",
              "       '512GB Flash_Storage', '128GB HDD', '240GB SSD', '8GB SSD',\n",
              "       '508GB Hybrid', '1.0TB HDD', '256GB SSD +  1.0TB Hybrid'],\n",
              "      dtype=object)"
            ]
          },
          "metadata": {},
          "execution_count": 27
        }
      ]
    },
    {
      "cell_type": "code",
      "source": [
        "laptop1[['Disc', 'Disc2']] = laptop1['Memory'].str.split('+', expand=True)"
      ],
      "metadata": {
        "colab": {
          "base_uri": "https://localhost:8080/"
        },
        "id": "dJjklnS0kK9o",
        "outputId": "eddeca18-c81c-49bb-cd24-eea3d8853688"
      },
      "execution_count": 28,
      "outputs": [
        {
          "output_type": "stream",
          "name": "stderr",
          "text": [
            "<ipython-input-28-a340f7a12582>:1: SettingWithCopyWarning: \n",
            "A value is trying to be set on a copy of a slice from a DataFrame.\n",
            "Try using .loc[row_indexer,col_indexer] = value instead\n",
            "\n",
            "See the caveats in the documentation: https://pandas.pydata.org/pandas-docs/stable/user_guide/indexing.html#returning-a-view-versus-a-copy\n",
            "  laptop1[['Disc', 'Disc2']] = laptop1['Memory'].str.split('+', expand=True)\n",
            "<ipython-input-28-a340f7a12582>:1: SettingWithCopyWarning: \n",
            "A value is trying to be set on a copy of a slice from a DataFrame.\n",
            "Try using .loc[row_indexer,col_indexer] = value instead\n",
            "\n",
            "See the caveats in the documentation: https://pandas.pydata.org/pandas-docs/stable/user_guide/indexing.html#returning-a-view-versus-a-copy\n",
            "  laptop1[['Disc', 'Disc2']] = laptop1['Memory'].str.split('+', expand=True)\n"
          ]
        }
      ]
    },
    {
      "cell_type": "code",
      "source": [
        "laptop1['Disc'] = laptop1['Disc'].apply(lambda x: x.strip())"
      ],
      "metadata": {
        "colab": {
          "base_uri": "https://localhost:8080/"
        },
        "id": "d77uRa--mOgD",
        "outputId": "f4a29f8e-e914-4390-de0a-7da72d3f5fd8"
      },
      "execution_count": 31,
      "outputs": [
        {
          "output_type": "stream",
          "name": "stderr",
          "text": [
            "<ipython-input-31-246f3ded1cd9>:1: SettingWithCopyWarning: \n",
            "A value is trying to be set on a copy of a slice from a DataFrame.\n",
            "Try using .loc[row_indexer,col_indexer] = value instead\n",
            "\n",
            "See the caveats in the documentation: https://pandas.pydata.org/pandas-docs/stable/user_guide/indexing.html#returning-a-view-versus-a-copy\n",
            "  laptop1['Disc'] = laptop1['Disc'].apply(lambda x: x.strip())\n"
          ]
        }
      ]
    },
    {
      "cell_type": "code",
      "source": [
        "laptop1['Disc2'] = laptop1['Disc2'].fillna('0GB')"
      ],
      "metadata": {
        "colab": {
          "base_uri": "https://localhost:8080/"
        },
        "id": "c0e5e2n_nNST",
        "outputId": "87225fb1-058d-4932-88d7-0e60d8457b1e"
      },
      "execution_count": 32,
      "outputs": [
        {
          "output_type": "stream",
          "name": "stderr",
          "text": [
            "<ipython-input-32-08d9437bde34>:1: SettingWithCopyWarning: \n",
            "A value is trying to be set on a copy of a slice from a DataFrame.\n",
            "Try using .loc[row_indexer,col_indexer] = value instead\n",
            "\n",
            "See the caveats in the documentation: https://pandas.pydata.org/pandas-docs/stable/user_guide/indexing.html#returning-a-view-versus-a-copy\n",
            "  laptop1['Disc2'] = laptop1['Disc2'].fillna('0GB')\n"
          ]
        }
      ]
    },
    {
      "cell_type": "code",
      "source": [
        "laptop1['Disc2'] = laptop1['Disc2'].apply(lambda x: x[:].lstrip())"
      ],
      "metadata": {
        "colab": {
          "base_uri": "https://localhost:8080/"
        },
        "id": "4qSoiwZxndMr",
        "outputId": "077ea2af-c8ae-40ba-bd01-952d6e6a1577"
      },
      "execution_count": 35,
      "outputs": [
        {
          "output_type": "stream",
          "name": "stderr",
          "text": [
            "<ipython-input-35-17ec92f28ef4>:1: SettingWithCopyWarning: \n",
            "A value is trying to be set on a copy of a slice from a DataFrame.\n",
            "Try using .loc[row_indexer,col_indexer] = value instead\n",
            "\n",
            "See the caveats in the documentation: https://pandas.pydata.org/pandas-docs/stable/user_guide/indexing.html#returning-a-view-versus-a-copy\n",
            "  laptop1['Disc2'] = laptop1['Disc2'].apply(lambda x: x[:].lstrip())\n"
          ]
        }
      ]
    },
    {
      "cell_type": "code",
      "source": [
        "laptop1[['Disc_size', 'Disc_type']] = laptop1['Disc'].str.split(' ', expand=True)"
      ],
      "metadata": {
        "colab": {
          "base_uri": "https://localhost:8080/"
        },
        "id": "vFsyOu7Snnpn",
        "outputId": "3a02e06b-7a0e-4029-9728-16dbbab23aae"
      },
      "execution_count": 37,
      "outputs": [
        {
          "output_type": "stream",
          "name": "stderr",
          "text": [
            "<ipython-input-37-c3c0d0032a27>:1: SettingWithCopyWarning: \n",
            "A value is trying to be set on a copy of a slice from a DataFrame.\n",
            "Try using .loc[row_indexer,col_indexer] = value instead\n",
            "\n",
            "See the caveats in the documentation: https://pandas.pydata.org/pandas-docs/stable/user_guide/indexing.html#returning-a-view-versus-a-copy\n",
            "  laptop1[['Disc_size', 'Disc_type']] = laptop1['Disc'].str.split(' ', expand=True)\n",
            "<ipython-input-37-c3c0d0032a27>:1: SettingWithCopyWarning: \n",
            "A value is trying to be set on a copy of a slice from a DataFrame.\n",
            "Try using .loc[row_indexer,col_indexer] = value instead\n",
            "\n",
            "See the caveats in the documentation: https://pandas.pydata.org/pandas-docs/stable/user_guide/indexing.html#returning-a-view-versus-a-copy\n",
            "  laptop1[['Disc_size', 'Disc_type']] = laptop1['Disc'].str.split(' ', expand=True)\n"
          ]
        }
      ]
    },
    {
      "cell_type": "code",
      "source": [
        "laptop1[['Disc2_size', 'Disc2_type']] = laptop1['Disc2'].str.split(' ', expand=True)"
      ],
      "metadata": {
        "colab": {
          "base_uri": "https://localhost:8080/"
        },
        "id": "99efO-2ln4y_",
        "outputId": "d2aa5a51-e83c-4774-a6bb-ddd63a7c1cbc"
      },
      "execution_count": 38,
      "outputs": [
        {
          "output_type": "stream",
          "name": "stderr",
          "text": [
            "<ipython-input-38-181a75bc0229>:1: SettingWithCopyWarning: \n",
            "A value is trying to be set on a copy of a slice from a DataFrame.\n",
            "Try using .loc[row_indexer,col_indexer] = value instead\n",
            "\n",
            "See the caveats in the documentation: https://pandas.pydata.org/pandas-docs/stable/user_guide/indexing.html#returning-a-view-versus-a-copy\n",
            "  laptop1[['Disc2_size', 'Disc2_type']] = laptop1['Disc2'].str.split(' ', expand=True)\n",
            "<ipython-input-38-181a75bc0229>:1: SettingWithCopyWarning: \n",
            "A value is trying to be set on a copy of a slice from a DataFrame.\n",
            "Try using .loc[row_indexer,col_indexer] = value instead\n",
            "\n",
            "See the caveats in the documentation: https://pandas.pydata.org/pandas-docs/stable/user_guide/indexing.html#returning-a-view-versus-a-copy\n",
            "  laptop1[['Disc2_size', 'Disc2_type']] = laptop1['Disc2'].str.split(' ', expand=True)\n"
          ]
        }
      ]
    },
    {
      "cell_type": "code",
      "source": [
        "laptop1['Disc_size'] = laptop1['Disc_size'].apply(lambda x: x[:-2].strip())"
      ],
      "metadata": {
        "colab": {
          "base_uri": "https://localhost:8080/"
        },
        "id": "OQLwrlF0oJqq",
        "outputId": "ddcd1489-470d-439f-e1ea-b349361b8c08"
      },
      "execution_count": 39,
      "outputs": [
        {
          "output_type": "stream",
          "name": "stderr",
          "text": [
            "<ipython-input-39-98a9a21d15f4>:1: SettingWithCopyWarning: \n",
            "A value is trying to be set on a copy of a slice from a DataFrame.\n",
            "Try using .loc[row_indexer,col_indexer] = value instead\n",
            "\n",
            "See the caveats in the documentation: https://pandas.pydata.org/pandas-docs/stable/user_guide/indexing.html#returning-a-view-versus-a-copy\n",
            "  laptop1['Disc_size'] = laptop1['Disc_size'].apply(lambda x: x[:-2].strip())\n"
          ]
        }
      ]
    },
    {
      "cell_type": "code",
      "source": [
        "laptop1['Disc2_size'] = laptop1['Disc2_size'].apply(lambda x: x[:-2].strip())"
      ],
      "metadata": {
        "colab": {
          "base_uri": "https://localhost:8080/"
        },
        "id": "e8a_w21eoVDl",
        "outputId": "03d4b043-f307-46b9-d4a9-0101df676495"
      },
      "execution_count": 41,
      "outputs": [
        {
          "output_type": "stream",
          "name": "stderr",
          "text": [
            "<ipython-input-41-938e5aabe775>:1: SettingWithCopyWarning: \n",
            "A value is trying to be set on a copy of a slice from a DataFrame.\n",
            "Try using .loc[row_indexer,col_indexer] = value instead\n",
            "\n",
            "See the caveats in the documentation: https://pandas.pydata.org/pandas-docs/stable/user_guide/indexing.html#returning-a-view-versus-a-copy\n",
            "  laptop1['Disc2_size'] = laptop1['Disc2_size'].apply(lambda x: x[:-2].strip())\n"
          ]
        }
      ]
    },
    {
      "cell_type": "code",
      "source": [
        "laptop1['Disc2_type'] = laptop1['Disc2_type'].fillna('no Disc2')"
      ],
      "metadata": {
        "colab": {
          "base_uri": "https://localhost:8080/"
        },
        "id": "_Ul4ODiro48X",
        "outputId": "7a95db65-2240-4714-fd08-6de26569b9bd"
      },
      "execution_count": 43,
      "outputs": [
        {
          "output_type": "stream",
          "name": "stderr",
          "text": [
            "<ipython-input-43-a8ad623dc2ee>:1: SettingWithCopyWarning: \n",
            "A value is trying to be set on a copy of a slice from a DataFrame.\n",
            "Try using .loc[row_indexer,col_indexer] = value instead\n",
            "\n",
            "See the caveats in the documentation: https://pandas.pydata.org/pandas-docs/stable/user_guide/indexing.html#returning-a-view-versus-a-copy\n",
            "  laptop1['Disc2_type'] = laptop1['Disc2_type'].fillna('no Disc2')\n"
          ]
        }
      ]
    },
    {
      "cell_type": "code",
      "source": [
        "laptop1.head()"
      ],
      "metadata": {
        "colab": {
          "base_uri": "https://localhost:8080/",
          "height": 495
        },
        "id": "tqFvukxLk01H",
        "outputId": "2ef000e2-2183-4dc9-b33c-812c56177680"
      },
      "execution_count": 44,
      "outputs": [
        {
          "output_type": "execute_result",
          "data": {
            "text/plain": [
              "   laptop_ID Company      Product   TypeName  Inches ScreenResolution  \\\n",
              "0          1   Apple  MacBook Pro  Ultrabook    13.3        2560x1600   \n",
              "1          2   Apple  Macbook Air  Ultrabook    13.3         1440x900   \n",
              "2          3      HP       250 G6   Notebook    15.6        1920x1080   \n",
              "3          4   Apple  MacBook Pro  Ultrabook    15.4        2880x1800   \n",
              "4          5   Apple  MacBook Pro  Ultrabook    13.3        2560x1600   \n",
              "\n",
              "                          Cpu  Ram               Memory  \\\n",
              "0        Intel Core i5 2.3GHz    8            128GB SSD   \n",
              "1        Intel Core i5 1.8GHz    8  128GB Flash_Storage   \n",
              "2  Intel Core i5 7200U 2.5GHz    8            256GB SSD   \n",
              "3        Intel Core i7 2.7GHz   16            512GB SSD   \n",
              "4        Intel Core i5 3.1GHz    8            256GB SSD   \n",
              "\n",
              "                            Gpu  OpSys  Weight  Price_euros  \\\n",
              "0  Intel Iris Plus Graphics 640  macOS  1.37kg      1339.69   \n",
              "1        Intel HD Graphics 6000  macOS  1.34kg       898.94   \n",
              "2         Intel HD Graphics 620  No OS  1.86kg       575.00   \n",
              "3            AMD Radeon Pro 455  macOS  1.83kg      2537.45   \n",
              "4  Intel Iris Plus Graphics 650  macOS  1.37kg      1803.60   \n",
              "\n",
              "                  Disc Disc2 Disc_size      Disc_type Disc2_size Disc2_type  \n",
              "0            128GB SSD   0GB       128            SSD          0   no Disc2  \n",
              "1  128GB Flash_Storage   0GB       128  Flash_Storage          0   no Disc2  \n",
              "2            256GB SSD   0GB       256            SSD          0   no Disc2  \n",
              "3            512GB SSD   0GB       512            SSD          0   no Disc2  \n",
              "4            256GB SSD   0GB       256            SSD          0   no Disc2  "
            ],
            "text/html": [
              "\n",
              "  <div id=\"df-8a094d73-f006-47eb-91a5-c797f2bc770a\">\n",
              "    <div class=\"colab-df-container\">\n",
              "      <div>\n",
              "<style scoped>\n",
              "    .dataframe tbody tr th:only-of-type {\n",
              "        vertical-align: middle;\n",
              "    }\n",
              "\n",
              "    .dataframe tbody tr th {\n",
              "        vertical-align: top;\n",
              "    }\n",
              "\n",
              "    .dataframe thead th {\n",
              "        text-align: right;\n",
              "    }\n",
              "</style>\n",
              "<table border=\"1\" class=\"dataframe\">\n",
              "  <thead>\n",
              "    <tr style=\"text-align: right;\">\n",
              "      <th></th>\n",
              "      <th>laptop_ID</th>\n",
              "      <th>Company</th>\n",
              "      <th>Product</th>\n",
              "      <th>TypeName</th>\n",
              "      <th>Inches</th>\n",
              "      <th>ScreenResolution</th>\n",
              "      <th>Cpu</th>\n",
              "      <th>Ram</th>\n",
              "      <th>Memory</th>\n",
              "      <th>Gpu</th>\n",
              "      <th>OpSys</th>\n",
              "      <th>Weight</th>\n",
              "      <th>Price_euros</th>\n",
              "      <th>Disc</th>\n",
              "      <th>Disc2</th>\n",
              "      <th>Disc_size</th>\n",
              "      <th>Disc_type</th>\n",
              "      <th>Disc2_size</th>\n",
              "      <th>Disc2_type</th>\n",
              "    </tr>\n",
              "  </thead>\n",
              "  <tbody>\n",
              "    <tr>\n",
              "      <th>0</th>\n",
              "      <td>1</td>\n",
              "      <td>Apple</td>\n",
              "      <td>MacBook Pro</td>\n",
              "      <td>Ultrabook</td>\n",
              "      <td>13.3</td>\n",
              "      <td>2560x1600</td>\n",
              "      <td>Intel Core i5 2.3GHz</td>\n",
              "      <td>8</td>\n",
              "      <td>128GB SSD</td>\n",
              "      <td>Intel Iris Plus Graphics 640</td>\n",
              "      <td>macOS</td>\n",
              "      <td>1.37kg</td>\n",
              "      <td>1339.69</td>\n",
              "      <td>128GB SSD</td>\n",
              "      <td>0GB</td>\n",
              "      <td>128</td>\n",
              "      <td>SSD</td>\n",
              "      <td>0</td>\n",
              "      <td>no Disc2</td>\n",
              "    </tr>\n",
              "    <tr>\n",
              "      <th>1</th>\n",
              "      <td>2</td>\n",
              "      <td>Apple</td>\n",
              "      <td>Macbook Air</td>\n",
              "      <td>Ultrabook</td>\n",
              "      <td>13.3</td>\n",
              "      <td>1440x900</td>\n",
              "      <td>Intel Core i5 1.8GHz</td>\n",
              "      <td>8</td>\n",
              "      <td>128GB Flash_Storage</td>\n",
              "      <td>Intel HD Graphics 6000</td>\n",
              "      <td>macOS</td>\n",
              "      <td>1.34kg</td>\n",
              "      <td>898.94</td>\n",
              "      <td>128GB Flash_Storage</td>\n",
              "      <td>0GB</td>\n",
              "      <td>128</td>\n",
              "      <td>Flash_Storage</td>\n",
              "      <td>0</td>\n",
              "      <td>no Disc2</td>\n",
              "    </tr>\n",
              "    <tr>\n",
              "      <th>2</th>\n",
              "      <td>3</td>\n",
              "      <td>HP</td>\n",
              "      <td>250 G6</td>\n",
              "      <td>Notebook</td>\n",
              "      <td>15.6</td>\n",
              "      <td>1920x1080</td>\n",
              "      <td>Intel Core i5 7200U 2.5GHz</td>\n",
              "      <td>8</td>\n",
              "      <td>256GB SSD</td>\n",
              "      <td>Intel HD Graphics 620</td>\n",
              "      <td>No OS</td>\n",
              "      <td>1.86kg</td>\n",
              "      <td>575.00</td>\n",
              "      <td>256GB SSD</td>\n",
              "      <td>0GB</td>\n",
              "      <td>256</td>\n",
              "      <td>SSD</td>\n",
              "      <td>0</td>\n",
              "      <td>no Disc2</td>\n",
              "    </tr>\n",
              "    <tr>\n",
              "      <th>3</th>\n",
              "      <td>4</td>\n",
              "      <td>Apple</td>\n",
              "      <td>MacBook Pro</td>\n",
              "      <td>Ultrabook</td>\n",
              "      <td>15.4</td>\n",
              "      <td>2880x1800</td>\n",
              "      <td>Intel Core i7 2.7GHz</td>\n",
              "      <td>16</td>\n",
              "      <td>512GB SSD</td>\n",
              "      <td>AMD Radeon Pro 455</td>\n",
              "      <td>macOS</td>\n",
              "      <td>1.83kg</td>\n",
              "      <td>2537.45</td>\n",
              "      <td>512GB SSD</td>\n",
              "      <td>0GB</td>\n",
              "      <td>512</td>\n",
              "      <td>SSD</td>\n",
              "      <td>0</td>\n",
              "      <td>no Disc2</td>\n",
              "    </tr>\n",
              "    <tr>\n",
              "      <th>4</th>\n",
              "      <td>5</td>\n",
              "      <td>Apple</td>\n",
              "      <td>MacBook Pro</td>\n",
              "      <td>Ultrabook</td>\n",
              "      <td>13.3</td>\n",
              "      <td>2560x1600</td>\n",
              "      <td>Intel Core i5 3.1GHz</td>\n",
              "      <td>8</td>\n",
              "      <td>256GB SSD</td>\n",
              "      <td>Intel Iris Plus Graphics 650</td>\n",
              "      <td>macOS</td>\n",
              "      <td>1.37kg</td>\n",
              "      <td>1803.60</td>\n",
              "      <td>256GB SSD</td>\n",
              "      <td>0GB</td>\n",
              "      <td>256</td>\n",
              "      <td>SSD</td>\n",
              "      <td>0</td>\n",
              "      <td>no Disc2</td>\n",
              "    </tr>\n",
              "  </tbody>\n",
              "</table>\n",
              "</div>\n",
              "      <button class=\"colab-df-convert\" onclick=\"convertToInteractive('df-8a094d73-f006-47eb-91a5-c797f2bc770a')\"\n",
              "              title=\"Convert this dataframe to an interactive table.\"\n",
              "              style=\"display:none;\">\n",
              "        \n",
              "  <svg xmlns=\"http://www.w3.org/2000/svg\" height=\"24px\"viewBox=\"0 0 24 24\"\n",
              "       width=\"24px\">\n",
              "    <path d=\"M0 0h24v24H0V0z\" fill=\"none\"/>\n",
              "    <path d=\"M18.56 5.44l.94 2.06.94-2.06 2.06-.94-2.06-.94-.94-2.06-.94 2.06-2.06.94zm-11 1L8.5 8.5l.94-2.06 2.06-.94-2.06-.94L8.5 2.5l-.94 2.06-2.06.94zm10 10l.94 2.06.94-2.06 2.06-.94-2.06-.94-.94-2.06-.94 2.06-2.06.94z\"/><path d=\"M17.41 7.96l-1.37-1.37c-.4-.4-.92-.59-1.43-.59-.52 0-1.04.2-1.43.59L10.3 9.45l-7.72 7.72c-.78.78-.78 2.05 0 2.83L4 21.41c.39.39.9.59 1.41.59.51 0 1.02-.2 1.41-.59l7.78-7.78 2.81-2.81c.8-.78.8-2.07 0-2.86zM5.41 20L4 18.59l7.72-7.72 1.47 1.35L5.41 20z\"/>\n",
              "  </svg>\n",
              "      </button>\n",
              "      \n",
              "  <style>\n",
              "    .colab-df-container {\n",
              "      display:flex;\n",
              "      flex-wrap:wrap;\n",
              "      gap: 12px;\n",
              "    }\n",
              "\n",
              "    .colab-df-convert {\n",
              "      background-color: #E8F0FE;\n",
              "      border: none;\n",
              "      border-radius: 50%;\n",
              "      cursor: pointer;\n",
              "      display: none;\n",
              "      fill: #1967D2;\n",
              "      height: 32px;\n",
              "      padding: 0 0 0 0;\n",
              "      width: 32px;\n",
              "    }\n",
              "\n",
              "    .colab-df-convert:hover {\n",
              "      background-color: #E2EBFA;\n",
              "      box-shadow: 0px 1px 2px rgba(60, 64, 67, 0.3), 0px 1px 3px 1px rgba(60, 64, 67, 0.15);\n",
              "      fill: #174EA6;\n",
              "    }\n",
              "\n",
              "    [theme=dark] .colab-df-convert {\n",
              "      background-color: #3B4455;\n",
              "      fill: #D2E3FC;\n",
              "    }\n",
              "\n",
              "    [theme=dark] .colab-df-convert:hover {\n",
              "      background-color: #434B5C;\n",
              "      box-shadow: 0px 1px 3px 1px rgba(0, 0, 0, 0.15);\n",
              "      filter: drop-shadow(0px 1px 2px rgba(0, 0, 0, 0.3));\n",
              "      fill: #FFFFFF;\n",
              "    }\n",
              "  </style>\n",
              "\n",
              "      <script>\n",
              "        const buttonEl =\n",
              "          document.querySelector('#df-8a094d73-f006-47eb-91a5-c797f2bc770a button.colab-df-convert');\n",
              "        buttonEl.style.display =\n",
              "          google.colab.kernel.accessAllowed ? 'block' : 'none';\n",
              "\n",
              "        async function convertToInteractive(key) {\n",
              "          const element = document.querySelector('#df-8a094d73-f006-47eb-91a5-c797f2bc770a');\n",
              "          const dataTable =\n",
              "            await google.colab.kernel.invokeFunction('convertToInteractive',\n",
              "                                                     [key], {});\n",
              "          if (!dataTable) return;\n",
              "\n",
              "          const docLinkHtml = 'Like what you see? Visit the ' +\n",
              "            '<a target=\"_blank\" href=https://colab.research.google.com/notebooks/data_table.ipynb>data table notebook</a>'\n",
              "            + ' to learn more about interactive tables.';\n",
              "          element.innerHTML = '';\n",
              "          dataTable['output_type'] = 'display_data';\n",
              "          await google.colab.output.renderOutput(dataTable, element);\n",
              "          const docLink = document.createElement('div');\n",
              "          docLink.innerHTML = docLinkHtml;\n",
              "          element.appendChild(docLink);\n",
              "        }\n",
              "      </script>\n",
              "    </div>\n",
              "  </div>\n",
              "  "
            ]
          },
          "metadata": {},
          "execution_count": 44
        }
      ]
    },
    {
      "cell_type": "code",
      "source": [
        "laptop1.info()  #zmienic disc size x2 na intigery"
      ],
      "metadata": {
        "colab": {
          "base_uri": "https://localhost:8080/"
        },
        "id": "mX9RsOE2pwFj",
        "outputId": "0c23d5fb-f5d4-4ffb-e129-6d98d5109c02"
      },
      "execution_count": 45,
      "outputs": [
        {
          "output_type": "stream",
          "name": "stdout",
          "text": [
            "<class 'pandas.core.frame.DataFrame'>\n",
            "Int64Index: 1291 entries, 0 to 1302\n",
            "Data columns (total 19 columns):\n",
            " #   Column            Non-Null Count  Dtype  \n",
            "---  ------            --------------  -----  \n",
            " 0   laptop_ID         1291 non-null   int64  \n",
            " 1   Company           1291 non-null   object \n",
            " 2   Product           1291 non-null   object \n",
            " 3   TypeName          1291 non-null   object \n",
            " 4   Inches            1291 non-null   float64\n",
            " 5   ScreenResolution  1291 non-null   object \n",
            " 6   Cpu               1291 non-null   object \n",
            " 7   Ram               1291 non-null   int64  \n",
            " 8   Memory            1291 non-null   object \n",
            " 9   Gpu               1291 non-null   object \n",
            " 10  OpSys             1291 non-null   object \n",
            " 11  Weight            1291 non-null   object \n",
            " 12  Price_euros       1291 non-null   float64\n",
            " 13  Disc              1291 non-null   object \n",
            " 14  Disc2             1291 non-null   object \n",
            " 15  Disc_size         1291 non-null   object \n",
            " 16  Disc_type         1291 non-null   object \n",
            " 17  Disc2_size        1291 non-null   object \n",
            " 18  Disc2_type        1291 non-null   object \n",
            "dtypes: float64(2), int64(2), object(15)\n",
            "memory usage: 201.7+ KB\n"
          ]
        }
      ]
    }
  ]
}